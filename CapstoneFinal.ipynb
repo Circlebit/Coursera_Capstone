{
 "cells": [
  {
   "cell_type": "markdown",
   "metadata": {},
   "source": [
    "# Capstone Project\n",
    "**for IBM's Coursera Specialization [Applied Data Science](https://www.coursera.org/specializations/applied-data-science)**\n",
    "\n",
    "----"
   ]
  },
  {
   "cell_type": "markdown",
   "metadata": {},
   "source": [
    "This notebook will contain my capstone Data Science project in which I will analyze and visualize location data from Foursquare."
   ]
  },
  {
   "cell_type": "markdown",
   "metadata": {},
   "source": [
    "## Business Problem\n",
    "My client wants to open a new restaurant in Berlin and wants some data-driven advice where and what kind of restaurant it should be.\n",
    "\n",
    "I'll make two presumptions:\n",
    " * __The more restaurants in the area the better__\\\n",
    "   even though there will be high competition in these areas, it is proven that a restaurant can be profitable there\n",
    " * __The uniquer the kind of restaurant the better__\\\n",
    "   to deal with high competition there should be something to set our clients restaurant apart from the rest of the market\n",
    "\n",
    "So the goal of my analysis is to identify areas that have a lot of restaurants and than give my client some pointers which kind of restaurant would be unique in these areas."
   ]
  },
  {
   "cell_type": "markdown",
   "metadata": {},
   "source": [
    "## Data\n",
    "The specific locations of the areas to analyze will not come from some existing data since coordinates from existing units of Berlin (like Postal Code Areas, Administrative Districts, ...) are unevenly distributed over the city and have weird shapes. Instead I will calculate a matrix of points over a chosen area and analyze and compare the areas around them with each other.\n",
    "\n",
    "The data about existing restaurants in these areas will come from the Foursquare API as required by the assignment. I will use the /venues/search endpoint and filter by \"Food\"-categories to get all restaurants in the area. I should end up with a grid of areas over the city and a list of venues for each of them."
   ]
  },
  {
   "cell_type": "code",
   "execution_count": null,
   "metadata": {},
   "outputs": [],
   "source": []
  }
 ],
 "metadata": {
  "kernelspec": {
   "display_name": ".venv",
   "language": "python",
   "name": ".venv"
  },
  "language_info": {
   "codemirror_mode": {
    "name": "ipython",
    "version": 3
   },
   "file_extension": ".py",
   "mimetype": "text/x-python",
   "name": "python",
   "nbconvert_exporter": "python",
   "pygments_lexer": "ipython3",
   "version": "3.8.5"
  }
 },
 "nbformat": 4,
 "nbformat_minor": 4
}
